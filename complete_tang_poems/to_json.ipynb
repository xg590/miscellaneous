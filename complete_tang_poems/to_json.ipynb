{
 "cells": [
  {
   "cell_type": "markdown",
   "metadata": {},
   "source": [
    "### Before running this script, you shoule convert coding of 《全唐诗》作者：曹寅.txt from gb2312 to utf8. I did it with notepad++"
   ]
  },
  {
   "cell_type": "code",
   "execution_count": 1,
   "metadata": {},
   "outputs": [],
   "source": [
    "volumes = []\n",
    "poems = []\n",
    "with open('《全唐诗》作者：曹寅.txt') as fr:\n",
    "    while True:\n",
    "        line = fr.readline()\n",
    "        if not line: break \n",
    "        if line[0]=='第':\n",
    "            volumes.append(poems)\n",
    "            poems = []\n",
    "        line = line.rstrip()\n",
    "        if not line: continue\n",
    "        poems.append(line.rstrip())\n",
    "_ = volumes.pop(0)"
   ]
  },
  {
   "cell_type": "code",
   "execution_count": 2,
   "metadata": {},
   "outputs": [],
   "source": [
    "volumes_dict = {}\n",
    "for i in volumes:\n",
    "    volumes_dict[i[0]]=i[1:] "
   ]
  },
  {
   "cell_type": "code",
   "execution_count": 3,
   "metadata": {},
   "outputs": [
    {
     "name": "stdout",
     "output_type": "stream",
     "text": [
      "第七百九十五卷\n",
      "第七百九十六卷\n"
     ]
    }
   ],
   "source": [
    "volume_sub_content = []\n",
    "volumes = {}\n",
    "for volume, poems in volumes_dict.items(): \n",
    "    collector = []\n",
    "    poem = []\n",
    "    for line in poems:\n",
    "        if line[:3] == '\\u3000\\u3000◎':\n",
    "            collector.append(poem)\n",
    "            poem = []\n",
    "        poem.append(line[2:])  \n",
    "    try:\n",
    "        collector.remove([])\n",
    "        volumes[volume] = collector \n",
    "        for i in collector:\n",
    "            volume_sub_content.append([volume, i[0], i[1:]])\n",
    "    except:\n",
    "        print(volume) "
   ]
  },
  {
   "cell_type": "code",
   "execution_count": 4,
   "metadata": {},
   "outputs": [],
   "source": [
    "collector = []\n",
    "for j in ['第七百九十五卷','第七百九十六卷']:\n",
    "    for i in volumes_dict[j]:\n",
    "        i = i[2:]\n",
    "        collector.append(i)\n",
    "        if i[-1] == '）': \n",
    "            content = []\n",
    "            title = []\n",
    "            flag = True\n",
    "            for i in collector:\n",
    "                if i.find('（') > -1:\n",
    "                    flag = False\n",
    "                    i.split('（')\n",
    "                    content.append(i.split('（')[0])\n",
    "                    title.append(i.split('（')[1])\n",
    "                    continue\n",
    "                if flag:\n",
    "                    content.append(i)\n",
    "                else:\n",
    "                    title.append(i)\n",
    "            flag = True\n",
    "            title = ''.join(title)\n",
    "            title = title.replace('）','')\n",
    "            #print([j,title,content])\n",
    "            volume_sub_content.append([j,title,content])  \n",
    "            collector = []"
   ]
  },
  {
   "cell_type": "code",
   "execution_count": 5,
   "metadata": {},
   "outputs": [
    {
     "data": {
      "text/plain": [
       "['第一卷李世民',\n",
       " '◎卷.4【正日临朝】李世民',\n",
       " ['条风开献节，灰律动初阳。百蛮奉遐赆，万国朝未央。',\n",
       "  '虽无舜禹迹，幸欣天地康。车轨同八表，书文混四方。',\n",
       "  '赫奕俨冠盖，纷纶盛服章。羽旄飞驰道，钟鼓震岩廊。',\n",
       "  '组练辉霞色，霜戟耀朝光。晨宵怀至理，终愧抚遐荒。']]"
      ]
     },
     "execution_count": 5,
     "metadata": {},
     "output_type": "execute_result"
    }
   ],
   "source": [
    "volume_sub_content[3]"
   ]
  },
  {
   "cell_type": "code",
   "execution_count": 6,
   "metadata": {},
   "outputs": [],
   "source": [
    "volume_sub_content_dict = {}\n",
    "for i, (vol, sub, cont) in enumerate(volume_sub_content):\n",
    "    cont = '\\n'.join(cont)\n",
    "    volume_sub_content_dict[i] = {'volume':vol, 'title':sub, 'content':cont} "
   ]
  },
  {
   "cell_type": "code",
   "execution_count": 7,
   "metadata": {},
   "outputs": [],
   "source": [
    "import json\n",
    "with open('complete_tang_poems.json','w') as fw:\n",
    "    json.dump(volume_sub_content_dict, fw)"
   ]
  }
 ],
 "metadata": {
  "kernelspec": {
   "display_name": "Python 3",
   "language": "python",
   "name": "python3"
  },
  "language_info": {
   "codemirror_mode": {
    "name": "ipython",
    "version": 3
   },
   "file_extension": ".py",
   "mimetype": "text/x-python",
   "name": "python",
   "nbconvert_exporter": "python",
   "pygments_lexer": "ipython3",
   "version": "3.8.5"
  }
 },
 "nbformat": 4,
 "nbformat_minor": 4
}
