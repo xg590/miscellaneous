{
 "cells": [
  {
   "cell_type": "code",
   "execution_count": null,
   "id": "e82e8070",
   "metadata": {
    "ExecuteTime": {
     "end_time": "2021-06-06T06:16:16.945330Z",
     "start_time": "2021-06-06T06:07:17.129153Z"
    }
   },
   "outputs": [],
   "source": [
    "import datetime, time, gpiozero\n",
    "with open('test.log', 'w') as fw:\n",
    "    while 1: \n",
    "        print(datetime.datetime.now().strftime('%Y-%m-%dT%H:%M:%S'))#, file = fw)\n",
    "        time.sleep(10)\n",
    "        fw.flush()"
   ]
  },
  {
   "cell_type": "code",
   "execution_count": 1,
   "id": "f27627ff",
   "metadata": {
    "ExecuteTime": {
     "end_time": "2021-06-06T08:10:37.780559Z",
     "start_time": "2021-06-06T08:10:36.187363Z"
    }
   },
   "outputs": [
    {
     "name": "stdout",
     "output_type": "stream",
     "text": [
      "[NbConvertApp] Converting notebook test.ipynb to script\n",
      "[NbConvertApp] Writing 737 bytes to test.py\n"
     ]
    }
   ],
   "source": [
    "!jupyter nbconvert --to script test.ipynb"
   ]
  },
  {
   "cell_type": "code",
   "execution_count": 2,
   "id": "1fdd1195",
   "metadata": {
    "ExecuteTime": {
     "end_time": "2021-06-06T08:10:38.501119Z",
     "start_time": "2021-06-06T08:10:38.485457Z"
    }
   },
   "outputs": [],
   "source": [
    "import multiprocessing, subprocess, time, signal\n",
    "\n",
    "def foo(conn): \n",
    "    sp = subprocess.Popen(args=['python3','test.py']) # cannot terminate in main process\n",
    "    conn.recv()\n",
    "    conn.close()\n",
    "    sp.terminate() # Terminate subprocess will put it in zombie state. End its parent process is needed.\n",
    "\n",
    "pconn, conn = multiprocessing.Pipe()\n",
    "p = multiprocessing.Process(target=foo, args=(conn,))\n",
    "p.start()"
   ]
  },
  {
   "cell_type": "code",
   "execution_count": 3,
   "id": "603bb6db",
   "metadata": {
    "ExecuteTime": {
     "end_time": "2021-06-06T08:10:45.787950Z",
     "start_time": "2021-06-06T08:10:45.778918Z"
    }
   },
   "outputs": [],
   "source": [
    "pconn.send(None) # unblock another process\n",
    "p.close()        # end another process"
   ]
  }
 ],
 "metadata": {
  "kernelspec": {
   "display_name": "Python 3",
   "language": "python",
   "name": "python3"
  },
  "language_info": {
   "codemirror_mode": {
    "name": "ipython",
    "version": 3
   },
   "file_extension": ".py",
   "mimetype": "text/x-python",
   "name": "python",
   "nbconvert_exporter": "python",
   "pygments_lexer": "ipython3",
   "version": "3.8.5"
  }
 },
 "nbformat": 4,
 "nbformat_minor": 5
}
