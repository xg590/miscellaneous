{
 "cells": [
  {
   "cell_type": "code",
   "execution_count": null,
   "metadata": {
    "ExecuteTime": {
     "end_time": "2021-07-20T01:07:52.492556Z",
     "start_time": "2021-07-20T01:07:52.487606Z"
    },
    "code_folding": []
   },
   "outputs": [],
   "source": [
    "import os, pathlib, subprocess, multiprocessing \n",
    "rcsb_cif_gz_dir = f'/scratch/{os.getenv(\"USER\")}/source/rcsb_cif_gz'\n",
    "rcsb_cif_dir    = f'/scratch/{os.getenv(\"USER\")}/source/rcsb_cif' \n",
    "_ = [pathlib.Path(i).mkdir(parents=True, exist_ok=True) \n",
    "        for i in [rcsb_cif_gz_dir, rcsb_cif_dir ]]  "
   ]
  },
  {
   "cell_type": "code",
   "execution_count": null,
   "metadata": {
    "ExecuteTime": {
     "end_time": "2021-07-20T01:08:32.155210Z",
     "start_time": "2021-07-20T01:08:32.059287Z"
    }
   },
   "outputs": [],
   "source": [
    "## Mirror The DB \n",
    "def mirror_db():\n",
    "    subprocess.run(f\"rsync -rlpt -z --delete --port=33444 rsync.rcsb.org::ftp_data/structures/divided/mmCIF/ {rcsb_cif_gz_dir}\", shell=True)\n",
    "    ### In case we want to update PDB, we need remove obsolete unzipped structures first.\n",
    "    from urllib.request import urlopen\n",
    "    obsolete = 'ftp://ftp.wwpdb.org/pub/pdb/data/status/obsolete.dat'\n",
    "    with urlopen(obsolete) as fr:\n",
    "        _ = fr.readline()\n",
    "        while True:\n",
    "            try:\n",
    "                line = fr.readline().decode()\n",
    "                if not line: break\n",
    "                PDBID = line.split()[2]\n",
    "                pdbid = PDBID.lower()  \n",
    "                os.remove(f'{rcsb_cif_dir}/{pdbid[1:3]}/{pdbid}.cif') \n",
    "                print('{} is now obselete and deleted successfully.'.format(PDBID))\n",
    "            except OSError:\n",
    "                pass # obselete file was gone before removal\n",
    "            except Exception as e:\n",
    "                print(e) \n",
    "                \n",
    "mirror_db()"
   ]
  },
  {
   "cell_type": "code",
   "execution_count": null,
   "metadata": {
    "ExecuteTime": {
     "end_time": "2021-07-20T01:02:49.483359Z",
     "start_time": "2021-07-20T01:02:23.170109Z"
    }
   },
   "outputs": [],
   "source": [
    "## Decompress\n",
    "def unzipper(pdb_id):\n",
    "    cif_subdir = f'{rcsb_cif_dir}/{pdb_id[1:3]}'\n",
    "    pathlib.Path(cif_subdir).mkdir(parents=True, exist_ok=True)\n",
    "    cif        = f'{rcsb_cif_dir}/{pdb_id[1:3]}/{pdb_id}.cif'\n",
    "    if os.path.isfile(cif): return None\n",
    "    gz         = f'{rcsb_cif_gz_dir}/{pdb_id[1:3]}/{pdb_id}.cif.gz'\n",
    "    proc = subprocess.run(args=['gzip', '-dc', gz], stdout=subprocess.PIPE) # unzip the zipped \n",
    "    with open(cif, 'wb') as fw: fw.write(proc.stdout)   \n",
    "\n",
    "def decompress():\n",
    "    pdb_ids = []\n",
    "    for subdir in os.scandir(rcsb_cif_gz_dir): \n",
    "        if subdir.is_dir():\n",
    "            for gz in os.scandir(subdir.path):\n",
    "                if gz.is_file():\n",
    "                    pdb_ids.append(gz.name[:4])\n",
    "    \n",
    "    with multiprocessing.Pool(multiprocessing.cpu_count()) as p: # unzipping in 3 cores  \n",
    "        p.map(unzipper, pdb_ids, multiprocessing.cpu_count()) \n",
    "        \n",
    "decompress()"
   ]
  }
 ],
 "metadata": {
  "kernelspec": {
   "display_name": "Python 3",
   "language": "python",
   "name": "python3"
  },
  "language_info": {
   "codemirror_mode": {
    "name": "ipython",
    "version": 3
   },
   "file_extension": ".py",
   "mimetype": "text/x-python",
   "name": "python",
   "nbconvert_exporter": "python",
   "pygments_lexer": "ipython3",
   "version": "3.7.10"
  }
 },
 "nbformat": 4,
 "nbformat_minor": 2
}
