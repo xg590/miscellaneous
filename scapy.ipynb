{
 "cells": [
  {
   "cell_type": "code",
   "execution_count": null,
   "id": "16f1cca8",
   "metadata": {
    "ExecuteTime": {
     "end_time": "2022-02-04T14:05:21.275361Z",
     "start_time": "2022-02-04T14:05:20.214121Z"
    }
   },
   "outputs": [],
   "source": [
    "# pip install scapy\n",
    "proto_num = {1:'ICMP', 4:'IPv4', 6:'TCP', 17:'UDP', 41:'IPv6'}\n",
    "import scapy.utils\n",
    "_pList = scapy.utils.rdpcap('sample.pcapng')\n",
    "sessions = _pList.sessions() \n",
    "for name, pList in sessions.items():\n",
    "    for i, packet in enumerate(pList): \n",
    "        try:\n",
    "            ip_pkt = packet[scapy.layers.inet.IP]\n",
    "            if proto_num[ip_pkt.proto] in ['TCP']: \n",
    "                ip_coll.append(ip_pkt.dst)\n",
    "            if ip_pkt.dst in ['3.82.30.64','34.195.183.246']:\n",
    "                a = packet[scapy.layers.inet.TCP]\n",
    "                print(a.dport, a.sport)\n",
    "                break\n",
    "        except Exception as e:\n",
    "            pass "
   ]
  }
 ],
 "metadata": {
  "kernelspec": {
   "display_name": "Python 3 (ipykernel)",
   "language": "python",
   "name": "python3"
  },
  "language_info": {
   "codemirror_mode": {
    "name": "ipython",
    "version": 3
   },
   "file_extension": ".py",
   "mimetype": "text/x-python",
   "name": "python",
   "nbconvert_exporter": "python",
   "pygments_lexer": "ipython3",
   "version": "3.7.11"
  }
 },
 "nbformat": 4,
 "nbformat_minor": 5
}
